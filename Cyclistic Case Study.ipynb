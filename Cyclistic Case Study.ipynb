{
 "cells": [
  {
   "cell_type": "code",
   "execution_count": 149,
   "id": "10bc3e90",
   "metadata": {},
   "outputs": [],
   "source": [
    "# Import libraries\n",
    "\n",
    "import pandas as pd\n",
    "import matplotlib.pyplot as plt\n",
    "import seaborn as sns\n",
    "import datetime as dt\n",
    "\n",
    "# Import datasets\n",
    "# Read data into dataframes\n",
    "\n",
    "feb22 = pd.read_csv(\"202202-divvy-tripdata.csv\")\n",
    "mar22 = pd.read_csv(\"202203-divvy-tripdata.csv\")\n",
    "apr22 = pd.read_csv(\"202204-divvy-tripdata.csv\")\n",
    "may22 = pd.read_csv(\"202205-divvy-tripdata.csv\")\n",
    "jun22 = pd.read_csv(\"202206-divvy-tripdata.csv\")\n",
    "jul22 = pd.read_csv(\"202207-divvy-tripdata.csv\")\n",
    "aug22 = pd.read_csv(\"202208-divvy-tripdata.csv\")\n",
    "sep22 = pd.read_csv(\"202209-divvy-tripdata.csv\")\n",
    "oct22 = pd.read_csv(\"202210-divvy-tripdata.csv\")\n",
    "nov22 = pd.read_csv(\"202211-divvy-tripdata.csv\")\n",
    "dec22 = pd.read_csv(\"202212-divvy-tripdata.csv\")\n",
    "jan23 = pd.read_csv(\"202301-divvy-tripdata.csv\")\n",
    "\n",
    "\n",
    "# Create a list of all dataframes\n",
    "\n",
    "dflist = [\n",
    "    feb22,\n",
    "    mar22,\n",
    "    apr22,\n",
    "    may22,\n",
    "    jun22,\n",
    "    jul22,\n",
    "    aug22,\n",
    "    sep22,\n",
    "    oct22,\n",
    "    nov22,\n",
    "    dec22,\n",
    "    jan23\n",
    "]\n",
    "\n",
    "\n"
   ]
  },
  {
   "cell_type": "code",
   "execution_count": 150,
   "id": "042fd369",
   "metadata": {},
   "outputs": [
    {
     "name": "stdout",
     "output_type": "stream",
     "text": [
      "13\n",
      "13\n",
      "13\n",
      "13\n",
      "13\n",
      "13\n",
      "13\n",
      "13\n",
      "13\n",
      "13\n",
      "13\n",
      "13\n"
     ]
    }
   ],
   "source": [
    "for df in dflist:\n",
    "    print(df.shape[1])"
   ]
  },
  {
   "cell_type": "code",
   "execution_count": 151,
   "id": "0310bf8e",
   "metadata": {},
   "outputs": [
    {
     "name": "stdout",
     "output_type": "stream",
     "text": [
      "Index(['ride_id', 'rideable_type', 'started_at', 'ended_at',\n",
      "       'start_station_name', 'start_station_id', 'end_station_name',\n",
      "       'end_station_id', 'start_lat', 'start_lng', 'end_lat', 'end_lng',\n",
      "       'member_casual'],\n",
      "      dtype='object')\n"
     ]
    }
   ],
   "source": [
    "# Each dataframe has 13 columns\n",
    "# Inspect each df to see if columns are appropriately named\n",
    "# After inspection, we discover that the columns are appropriately named which means they can be merged\n",
    "# Create a single dataframe that combines the 12 dataframes\n",
    "df = pd.concat(frames, axis=0, ignore_index=True)\n",
    "print(df.columns)"
   ]
  },
  {
   "cell_type": "code",
   "execution_count": 152,
   "id": "5fa60068",
   "metadata": {},
   "outputs": [
    {
     "name": "stdout",
     "output_type": "stream",
     "text": [
      "            ride_id  rideable_type           started_at             ended_at  \\\n",
      "0  E1E065E7ED285C02   classic_bike  2022-02-19 18:08:41  2022-02-19 18:23:56   \n",
      "1  1602DCDC5B30FFE3   classic_bike  2022-02-20 17:41:30  2022-02-20 17:45:56   \n",
      "2  BE7DD2AF4B55C4AF   classic_bike  2022-02-25 18:55:56  2022-02-25 19:09:34   \n",
      "3  A1789BDF844412BE   classic_bike  2022-02-14 11:57:03  2022-02-14 12:04:00   \n",
      "4  07DE78092C62F7B3   classic_bike  2022-02-16 05:36:06  2022-02-16 05:39:00   \n",
      "5  9A2F204F04AB7E24   classic_bike  2022-02-07 09:51:57  2022-02-07 10:07:53   \n",
      "6  D1E6BB679BDEDEE4   classic_bike  2022-02-14 10:38:54  2022-02-14 10:42:43   \n",
      "7  DE23C1DC29B40237   classic_bike  2022-02-08 20:12:33  2022-02-08 20:21:16   \n",
      "8  3E314B0F46667DE9  electric_bike  2022-02-25 13:49:05  2022-02-25 13:54:43   \n",
      "9  04ED4D3E37D2351C   classic_bike  2022-02-06 07:36:15  2022-02-06 07:42:05   \n",
      "\n",
      "             start_station_name start_station_id  \\\n",
      "0        State St & Randolph St     TA1305000029   \n",
      "1   Halsted St & Wrightwood Ave     TA1309000061   \n",
      "2        State St & Randolph St     TA1305000029   \n",
      "3  Southport Ave & Waveland Ave            13235   \n",
      "4        State St & Randolph St     TA1305000029   \n",
      "5        St. Clair St & Erie St            13016   \n",
      "6             Wells St & Elm St     KA1504000135   \n",
      "7        State St & Randolph St     TA1305000029   \n",
      "8    Larrabee St & Armitage Ave     TA1309000006   \n",
      "9           Morgan St & 18th St            13163   \n",
      "\n",
      "                 end_station_name end_station_id  start_lat  start_lng  \\\n",
      "0          Clark St & Lincoln Ave          13179  41.884621 -87.627834   \n",
      "1  Southport Ave & Wrightwood Ave   TA1307000113  41.929143 -87.649077   \n",
      "2             Canal St & Adams St          13011  41.884621 -87.627834   \n",
      "3          Broadway & Sheridan Rd          13323  41.948150 -87.663940   \n",
      "4           Franklin St & Lake St   TA1307000111  41.884621 -87.627834   \n",
      "5         Franklin St & Monroe St   TA1309000007  41.894345 -87.622798   \n",
      "6          Clark St & Schiller St   TA1309000024  41.903222 -87.634324   \n",
      "7     Desplaines St & Randolph St          15535  41.884621 -87.627834   \n",
      "8       Cherry Ave & Blackhawk St          18069  41.918136 -87.643786   \n",
      "9         Halsted St & Maxwell St   TA1309000001  41.858086 -87.651073   \n",
      "\n",
      "     end_lat    end_lng member_casual  \n",
      "0  41.915689 -87.634600        member  \n",
      "1  41.928773 -87.663913        member  \n",
      "2  41.879255 -87.639904        member  \n",
      "3  41.952833 -87.649993        member  \n",
      "4  41.885837 -87.635500        member  \n",
      "5  41.880317 -87.635185        member  \n",
      "6  41.907993 -87.631501        member  \n",
      "7  41.884616 -87.644571        member  \n",
      "8  41.907221 -87.655618        member  \n",
      "9  41.864883 -87.647071        member  \n",
      "<class 'pandas.core.frame.DataFrame'>\n",
      "RangeIndex: 5754248 entries, 0 to 5754247\n",
      "Data columns (total 13 columns):\n",
      " #   Column              Dtype  \n",
      "---  ------              -----  \n",
      " 0   ride_id             object \n",
      " 1   rideable_type       object \n",
      " 2   started_at          object \n",
      " 3   ended_at            object \n",
      " 4   start_station_name  object \n",
      " 5   start_station_id    object \n",
      " 6   end_station_name    object \n",
      " 7   end_station_id      object \n",
      " 8   start_lat           float64\n",
      " 9   start_lng           float64\n",
      " 10  end_lat             float64\n",
      " 11  end_lng             float64\n",
      " 12  member_casual       object \n",
      "dtypes: float64(4), object(9)\n",
      "memory usage: 570.7+ MB\n",
      "None\n"
     ]
    }
   ],
   "source": [
    "# Summary of the data\n",
    "print(df.head(10))\n",
    "print(df.info())"
   ]
  },
  {
   "cell_type": "code",
   "execution_count": 153,
   "id": "ae8c65f7",
   "metadata": {},
   "outputs": [
    {
     "name": "stdout",
     "output_type": "stream",
     "text": [
      "ride_id                    0\n",
      "rideable_type              0\n",
      "started_at                 0\n",
      "ended_at                   0\n",
      "start_station_name    843525\n",
      "start_station_id      843525\n",
      "end_station_name      902655\n",
      "end_station_id        902655\n",
      "start_lat                  0\n",
      "start_lng                  0\n",
      "end_lat                 5899\n",
      "end_lng                 5899\n",
      "member_casual              0\n",
      "dtype: int64\n",
      "                  ride_id  rideable_type           started_at  \\\n",
      "68       A1D55B29161CC038  electric_bike  2022-02-28 18:51:10   \n",
      "167      0C22F4A23EE5EE8F  electric_bike  2022-02-01 08:54:13   \n",
      "227      49629A775A71F7C9  electric_bike  2022-02-05 07:07:31   \n",
      "228      A47A1C59A94837E4  electric_bike  2022-02-23 07:53:24   \n",
      "261      C1BC5557E24B9EFF  electric_bike  2022-02-02 11:03:40   \n",
      "...                   ...            ...                  ...   \n",
      "5750748  9DB29F0B063AC45F  electric_bike  2023-01-19 23:46:47   \n",
      "5750749  6B4E0FE9634C892D  electric_bike  2023-01-15 12:53:12   \n",
      "5750750  A717081A5DF673DD  electric_bike  2023-01-25 18:07:36   \n",
      "5750806  310A65D6CF3A4E32  electric_bike  2023-01-13 17:46:52   \n",
      "5750807  E70329EC9C66ABD5  electric_bike  2023-01-12 10:12:42   \n",
      "\n",
      "                    ended_at           start_station_name start_station_id  \\\n",
      "68       2022-02-28 19:24:49                          NaN              NaN   \n",
      "167      2022-02-01 09:12:02  Lincoln Ave & Diversey Pkwy     TA1307000064   \n",
      "227      2022-02-05 07:14:05                          NaN              NaN   \n",
      "228      2022-02-23 07:59:19                          NaN              NaN   \n",
      "261      2022-02-02 12:46:56                          NaN              NaN   \n",
      "...                      ...                          ...              ...   \n",
      "5750748  2023-01-19 23:50:11                          NaN              NaN   \n",
      "5750749  2023-01-15 12:54:53                          NaN              NaN   \n",
      "5750750  2023-01-25 18:11:42                          NaN              NaN   \n",
      "5750806  2023-01-13 18:05:54                          NaN              NaN   \n",
      "5750807  2023-01-12 10:18:03                          NaN              NaN   \n",
      "\n",
      "                  end_station_name end_station_id  start_lat  start_lng  \\\n",
      "68       Kimball Ave & Belmont Ave   KA150400009X  41.910000 -87.710000   \n",
      "167                            NaN            NaN  41.932227 -87.658784   \n",
      "227        Logan Blvd & Elston Ave   TA1308000031  41.940000 -87.700000   \n",
      "228            Morgan St & Polk St   TA1307000130  41.860000 -87.650000   \n",
      "261         Wabash Ave & Grand Ave   TA1307000117  41.890000 -87.630000   \n",
      "...                            ...            ...        ...        ...   \n",
      "5750748        Ellis Ave & 55th St   KA1504000076  41.790000 -87.590000   \n",
      "5750749  Columbus Dr & Randolph St          13263  41.890000 -87.620000   \n",
      "5750750        Ellis Ave & 55th St   KA1504000076  41.790000 -87.600000   \n",
      "5750806     Clark St & Chicago Ave          13303  41.920000 -87.700000   \n",
      "5750807        Ellis Ave & 55th St   KA1504000076  41.800000 -87.590000   \n",
      "\n",
      "           end_lat    end_lng member_casual  \n",
      "68       41.939398 -87.711561        member  \n",
      "167      41.900000 -87.630000        member  \n",
      "227      41.929465 -87.684158        member  \n",
      "228      41.871737 -87.651030        member  \n",
      "261      41.891466 -87.626761        member  \n",
      "...            ...        ...           ...  \n",
      "5750748  41.794301 -87.601450        member  \n",
      "5750749  41.884728 -87.619521        member  \n",
      "5750750  41.794301 -87.601450        member  \n",
      "5750806  41.896750 -87.630890        member  \n",
      "5750807  41.794301 -87.601450        member  \n",
      "\n",
      "[1316732 rows x 13 columns]\n"
     ]
    }
   ],
   "source": [
    "# DATA CLEANING\n",
    "\n",
    "# We need to check which columns and rows have missing data\n",
    "# Columns with missing values\n",
    "print(df.isnull().sum())\n",
    "\n",
    "# Rows missing values\n",
    "print(df[df.isnull().any(axis=1)])"
   ]
  },
  {
   "cell_type": "code",
   "execution_count": 154,
   "id": "642e918c",
   "metadata": {},
   "outputs": [
    {
     "name": "stdout",
     "output_type": "stream",
     "text": [
      "Total Null Rows: 1316732\n",
      " % of Null Rows: 22.88278155546998\n"
     ]
    }
   ],
   "source": [
    "# The columns with missing values are start_station_name, start_station_id, end_station_name, end_station_id, end_lat and end_lng\n",
    "# Find out the total number of rows that contain null values\n",
    "sum_rows_null = df.isnull().any(axis=1).sum()\n",
    "print(f\"Total Null Rows: {sum_rows_null}\")\n",
    "\n",
    "# Percentage of rows with missing values in the dataset\n",
    "pc_nullrows = sum_rows_null / df.shape[0] * 100\n",
    "print(f\" % of Null Rows: {pc_nullrows}\")"
   ]
  },
  {
   "cell_type": "code",
   "execution_count": 155,
   "id": "d9231a49",
   "metadata": {},
   "outputs": [
    {
     "name": "stdout",
     "output_type": "stream",
     "text": [
      "ride_id               0\n",
      "rideable_type         0\n",
      "started_at            0\n",
      "ended_at              0\n",
      "start_station_name    0\n",
      "start_station_id      0\n",
      "end_station_name      0\n",
      "end_station_id        0\n",
      "start_lat             0\n",
      "start_lng             0\n",
      "end_lat               0\n",
      "end_lng               0\n",
      "member_casual         0\n",
      "dtype: int64\n"
     ]
    }
   ],
   "source": [
    "# Drop rows with missing data\n",
    "df_clean = df.dropna(axis=\"index\")\n",
    "print(df_clean.isnull().sum())"
   ]
  },
  {
   "cell_type": "code",
   "execution_count": 156,
   "id": "9ea029cc",
   "metadata": {},
   "outputs": [
    {
     "name": "stdout",
     "output_type": "stream",
     "text": [
      "Duplicate rows: 0\n"
     ]
    }
   ],
   "source": [
    "# Check for duplicates\n",
    "total_duplicate = df_clean.duplicated().sum()\n",
    "print(f\"Duplicate rows: {total_duplicate}\")"
   ]
  },
  {
   "cell_type": "code",
   "execution_count": 157,
   "id": "2c595b61",
   "metadata": {},
   "outputs": [
    {
     "name": "stdout",
     "output_type": "stream",
     "text": [
      "                  ride_id  rideable_type           started_at  \\\n",
      "0        E1E065E7ED285C02   classic_bike  2022-02-19 18:08:41   \n",
      "1        1602DCDC5B30FFE3   classic_bike  2022-02-20 17:41:30   \n",
      "2        BE7DD2AF4B55C4AF   classic_bike  2022-02-25 18:55:56   \n",
      "3        A1789BDF844412BE   classic_bike  2022-02-14 11:57:03   \n",
      "4        07DE78092C62F7B3   classic_bike  2022-02-16 05:36:06   \n",
      "...                   ...            ...                  ...   \n",
      "5754243  A303816F2E8A35A8  electric_bike  2023-01-11 17:46:23   \n",
      "5754244  BCDBB142CC610382   classic_bike  2023-01-30 15:08:10   \n",
      "5754245  7D1C7CA80517183B   classic_bike  2023-01-06 19:34:50   \n",
      "5754246  1A4EB636346DF527   classic_bike  2023-01-13 18:59:24   \n",
      "5754247  069971675AC7DC62  electric_bike  2023-01-02 13:48:29   \n",
      "\n",
      "                    ended_at            start_station_name start_station_id  \\\n",
      "0        2022-02-19 18:23:56        State St & Randolph St     TA1305000029   \n",
      "1        2022-02-20 17:45:56   Halsted St & Wrightwood Ave     TA1309000061   \n",
      "2        2022-02-25 19:09:34        State St & Randolph St     TA1305000029   \n",
      "3        2022-02-14 12:04:00  Southport Ave & Waveland Ave            13235   \n",
      "4        2022-02-16 05:39:00        State St & Randolph St     TA1305000029   \n",
      "...                      ...                           ...              ...   \n",
      "5754243  2023-01-11 17:57:31             Clark St & Elm St     TA1307000039   \n",
      "5754244  2023-01-30 15:33:26      Western Ave & Leland Ave     TA1307000140   \n",
      "5754245  2023-01-06 19:50:01             Clark St & Elm St     TA1307000039   \n",
      "5754246  2023-01-13 19:14:44             Clark St & Elm St     TA1307000039   \n",
      "5754247  2023-01-02 13:59:29             Clark St & Elm St     TA1307000039   \n",
      "\n",
      "                       end_station_name end_station_id  start_lat  start_lng  \\\n",
      "0                Clark St & Lincoln Ave          13179  41.884621 -87.627834   \n",
      "1        Southport Ave & Wrightwood Ave   TA1307000113  41.929143 -87.649077   \n",
      "2                   Canal St & Adams St          13011  41.884621 -87.627834   \n",
      "3                Broadway & Sheridan Rd          13323  41.948150 -87.663940   \n",
      "4                 Franklin St & Lake St   TA1307000111  41.884621 -87.627834   \n",
      "...                                 ...            ...        ...        ...   \n",
      "5754243    Southport Ave & Clybourn Ave   TA1309000030  41.902634 -87.631591   \n",
      "5754244      Clarendon Ave & Gordon Ter          13379  41.966400 -87.688704   \n",
      "5754245    Southport Ave & Clybourn Ave   TA1309000030  41.902973 -87.631280   \n",
      "5754246    Southport Ave & Clybourn Ave   TA1309000030  41.902973 -87.631280   \n",
      "5754247    Southport Ave & Clybourn Ave   TA1309000030  41.902822 -87.631687   \n",
      "\n",
      "           end_lat    end_lng member_casual  \n",
      "0        41.915689 -87.634600        member  \n",
      "1        41.928773 -87.663913        member  \n",
      "2        41.879255 -87.639904        member  \n",
      "3        41.952833 -87.649993        member  \n",
      "4        41.885837 -87.635500        member  \n",
      "...            ...        ...           ...  \n",
      "5754243  41.920771 -87.663712        casual  \n",
      "5754244  41.957867 -87.649505        member  \n",
      "5754245  41.920771 -87.663712        casual  \n",
      "5754246  41.920771 -87.663712        casual  \n",
      "5754247  41.920771 -87.663712        casual  \n",
      "\n",
      "[4437516 rows x 13 columns]\n",
      "<class 'pandas.core.frame.DataFrame'>\n",
      "Int64Index: 4437516 entries, 0 to 5754247\n",
      "Data columns (total 13 columns):\n",
      " #   Column              Dtype  \n",
      "---  ------              -----  \n",
      " 0   ride_id             object \n",
      " 1   rideable_type       object \n",
      " 2   started_at          object \n",
      " 3   ended_at            object \n",
      " 4   start_station_name  object \n",
      " 5   start_station_id    object \n",
      " 6   end_station_name    object \n",
      " 7   end_station_id      object \n",
      " 8   start_lat           float64\n",
      " 9   start_lng           float64\n",
      " 10  end_lat             float64\n",
      " 11  end_lng             float64\n",
      " 12  member_casual       object \n",
      "dtypes: float64(4), object(9)\n",
      "memory usage: 474.0+ MB\n",
      "None\n"
     ]
    }
   ],
   "source": [
    "# Cleaned data\n",
    "print(df_clean)\n",
    "print(df_clean.info())"
   ]
  },
  {
   "cell_type": "code",
   "execution_count": 158,
   "id": "5e0d82e3",
   "metadata": {},
   "outputs": [
    {
     "name": "stderr",
     "output_type": "stream",
     "text": [
      "C:\\Users\\USER\\AppData\\Local\\Temp\\ipykernel_22644\\3171076616.py:5: SettingWithCopyWarning: \n",
      "A value is trying to be set on a copy of a slice from a DataFrame.\n",
      "Try using .loc[row_indexer,col_indexer] = value instead\n",
      "\n",
      "See the caveats in the documentation: https://pandas.pydata.org/pandas-docs/stable/user_guide/indexing.html#returning-a-view-versus-a-copy\n",
      "  df_clean[\"started_at\"] = pd.to_datetime(df_clean[\"started_at\"])\n",
      "C:\\Users\\USER\\AppData\\Local\\Temp\\ipykernel_22644\\3171076616.py:6: SettingWithCopyWarning: \n",
      "A value is trying to be set on a copy of a slice from a DataFrame.\n",
      "Try using .loc[row_indexer,col_indexer] = value instead\n",
      "\n",
      "See the caveats in the documentation: https://pandas.pydata.org/pandas-docs/stable/user_guide/indexing.html#returning-a-view-versus-a-copy\n",
      "  df_clean[\"ended_at\"] = pd.to_datetime(df_clean[\"ended_at\"])\n"
     ]
    },
    {
     "name": "stdout",
     "output_type": "stream",
     "text": [
      "                  ride_id  rideable_type          started_at  \\\n",
      "5673127  AA98C5FAEC17832D   classic_bike 2023-01-31 23:19:11   \n",
      "5608776  7BB4D2C730D8E4BE  electric_bike 2023-01-31 23:44:55   \n",
      "5722878  56FF83E0D18B8AAB  electric_bike 2023-01-31 23:51:57   \n",
      "5669344  D915F47D01416C18   classic_bike 2023-01-31 23:53:18   \n",
      "5691656  03C7B7A14C694AEB   classic_bike 2023-01-31 23:51:19   \n",
      "...                   ...            ...                 ...   \n",
      "5027     CD92D9AF505AA077   classic_bike 2022-02-01 00:08:02   \n",
      "78807    8EE14664AD0206CB   classic_bike 2022-02-01 00:35:38   \n",
      "28238    AA521076CE8B981C   classic_bike 2022-02-01 00:28:11   \n",
      "24395    E7F30D46ACF9071D  electric_bike 2022-02-01 00:04:30   \n",
      "75131    6325229942E058A1   classic_bike 2022-02-01 00:03:18   \n",
      "\n",
      "                   ended_at                     start_station_name  \\\n",
      "5673127 2023-02-01 00:28:12          Ravenswood Ave & Lawrence Ave   \n",
      "5608776 2023-02-01 00:12:40                   Canal St & Monroe St   \n",
      "5722878 2023-01-31 23:59:01                  Wells St & Hubbard St   \n",
      "5669344 2023-01-31 23:57:38                   Paulina St & 18th St   \n",
      "5691656 2023-01-31 23:55:33               University Ave & 57th St   \n",
      "...                     ...                                    ...   \n",
      "5027    2022-02-01 00:47:53                        Millennium Park   \n",
      "78807   2022-02-01 00:39:07                   Clinton St & Lake St   \n",
      "28238   2022-02-01 00:30:10                Broadway & Cornelia Ave   \n",
      "24395   2022-02-01 00:17:12                  Broadway & Berwyn Ave   \n",
      "75131   2022-02-01 00:09:37  DuSable Lake Shore Dr & Diversey Pkwy   \n",
      "\n",
      "        start_station_id               end_station_name end_station_id  \\\n",
      "5673127     TA1309000066         Damen Ave & Foster Ave   KA1504000149   \n",
      "5608776            13056  California Ave & Montrose Ave          15622   \n",
      "5722878     TA1307000151           Federal St & Polk St         SL-008   \n",
      "5669344     TA1307000159           Racine Ave & 18th St          13164   \n",
      "5691656     KA1503000071            Ellis Ave & 60th St   KA1503000014   \n",
      "...                  ...                            ...            ...   \n",
      "5027               13008          Michigan Ave & 8th St            623   \n",
      "78807              13021       Kingsbury St & Kinzie St   KA1503000043   \n",
      "28238              13278        Broadway & Waveland Ave          13325   \n",
      "24395              13109       Western Ave & Leland Ave   TA1307000140   \n",
      "75131       TA1309000039      Clark St & Wellington Ave   TA1307000136   \n",
      "\n",
      "         start_lat  start_lng    end_lat    end_lng member_casual  \n",
      "5673127  41.969090 -87.674237  41.975615 -87.679459        member  \n",
      "5608776  41.881663 -87.639156  41.961068 -87.695439        member  \n",
      "5722878  41.889923 -87.634291  41.872078 -87.629544        member  \n",
      "5669344  41.857901 -87.668745  41.858166 -87.656495        member  \n",
      "5691656  41.791478 -87.599861  41.785097 -87.601073        casual  \n",
      "...            ...        ...        ...        ...           ...  \n",
      "5027     41.881032 -87.624084  41.872773 -87.623981        casual  \n",
      "78807    41.885637 -87.641823  41.889177 -87.638506        member  \n",
      "28238    41.945529 -87.646439  41.949074 -87.648636        member  \n",
      "24395    41.978369 -87.659778  41.966400 -87.688704        casual  \n",
      "75131    41.932588 -87.636427  41.936497 -87.647539        casual  \n",
      "\n",
      "[4437516 rows x 13 columns]\n"
     ]
    },
    {
     "name": "stderr",
     "output_type": "stream",
     "text": [
      "C:\\Users\\USER\\AppData\\Local\\Temp\\ipykernel_22644\\3171076616.py:9: SettingWithCopyWarning: \n",
      "A value is trying to be set on a copy of a slice from a DataFrame\n",
      "\n",
      "See the caveats in the documentation: https://pandas.pydata.org/pandas-docs/stable/user_guide/indexing.html#returning-a-view-versus-a-copy\n",
      "  df_clean.sort_values(by=[\"ended_at\"], inplace=True, ascending=False)\n"
     ]
    }
   ],
   "source": [
    "# DATA PROCESSING\n",
    "\n",
    "# Transform started_at and ended_at into datetime\n",
    "\n",
    "df_clean[\"started_at\"] = pd.to_datetime(df_clean[\"started_at\"])\n",
    "df_clean[\"ended_at\"] = pd.to_datetime(df_clean[\"ended_at\"])\n",
    "\n",
    "# Sort dataframe in descending order based on ended_at colum\n",
    "df_clean.sort_values(by=[\"ended_at\"], inplace=True, ascending=False)\n",
    "print(df_clean)"
   ]
  },
  {
   "cell_type": "code",
   "execution_count": 159,
   "id": "85d4d73d",
   "metadata": {},
   "outputs": [
    {
     "name": "stderr",
     "output_type": "stream",
     "text": [
      "C:\\Users\\USER\\AppData\\Local\\Temp\\ipykernel_22644\\685201613.py:3: UserWarning: Boolean Series key will be reindexed to match DataFrame index.\n",
      "  df_clean = df_clean[feb23_filter]\n"
     ]
    }
   ],
   "source": [
    "# Remove Feb 2023 data\n",
    "feb23_filter = df[\"ended_at\"] <= \"2023-02-01 00:00:00\"\n",
    "df_clean = df_clean[feb23_filter]"
   ]
  },
  {
   "cell_type": "code",
   "execution_count": 160,
   "id": "e11f1252",
   "metadata": {},
   "outputs": [],
   "source": [
    "import numpy as np\n",
    "# Create ride_length (in mins) column \n",
    "ride_length = df_clean[\"ended_at\"] - df_clean[\"started_at\"]\n",
    "ride_length = np.round(ride_length.dt.total_seconds() / 60, 2)\n",
    "df_clean[\"ride_length\"] = ride_length"
   ]
  },
  {
   "cell_type": "code",
   "execution_count": 161,
   "id": "8af6ee8b",
   "metadata": {},
   "outputs": [
    {
     "name": "stdout",
     "output_type": "stream",
     "text": [
      "                  ride_id  rideable_type          started_at  \\\n",
      "5722878  56FF83E0D18B8AAB  electric_bike 2023-01-31 23:51:57   \n",
      "5669344  D915F47D01416C18   classic_bike 2023-01-31 23:53:18   \n",
      "5691656  03C7B7A14C694AEB   classic_bike 2023-01-31 23:51:19   \n",
      "5600598  22E722436010598E  electric_bike 2023-01-31 23:48:16   \n",
      "5668960  753C27BC337EBD39   classic_bike 2023-01-31 23:47:19   \n",
      "...                   ...            ...                 ...   \n",
      "5027     CD92D9AF505AA077   classic_bike 2022-02-01 00:08:02   \n",
      "78807    8EE14664AD0206CB   classic_bike 2022-02-01 00:35:38   \n",
      "28238    AA521076CE8B981C   classic_bike 2022-02-01 00:28:11   \n",
      "24395    E7F30D46ACF9071D  electric_bike 2022-02-01 00:04:30   \n",
      "75131    6325229942E058A1   classic_bike 2022-02-01 00:03:18   \n",
      "\n",
      "                   ended_at                     start_station_name  \\\n",
      "5722878 2023-01-31 23:59:01                  Wells St & Hubbard St   \n",
      "5669344 2023-01-31 23:57:38                   Paulina St & 18th St   \n",
      "5691656 2023-01-31 23:55:33               University Ave & 57th St   \n",
      "5600598 2023-01-31 23:55:17            Halsted St & Wrightwood Ave   \n",
      "5668960 2023-01-31 23:52:42                    Ellis Ave & 60th St   \n",
      "...                     ...                                    ...   \n",
      "5027    2022-02-01 00:47:53                        Millennium Park   \n",
      "78807   2022-02-01 00:39:07                   Clinton St & Lake St   \n",
      "28238   2022-02-01 00:30:10                Broadway & Cornelia Ave   \n",
      "24395   2022-02-01 00:17:12                  Broadway & Berwyn Ave   \n",
      "75131   2022-02-01 00:09:37  DuSable Lake Shore Dr & Diversey Pkwy   \n",
      "\n",
      "        start_station_id            end_station_name end_station_id  \\\n",
      "5722878     TA1307000151        Federal St & Polk St         SL-008   \n",
      "5669344     TA1307000159        Racine Ave & 18th St          13164   \n",
      "5691656     KA1503000071         Ellis Ave & 60th St   KA1503000014   \n",
      "5600598     TA1309000061  Damen Ave & Wellington Ave          13268   \n",
      "5668960     KA1503000014        Harper Ave & 59th St   KA1503000070   \n",
      "...                  ...                         ...            ...   \n",
      "5027               13008       Michigan Ave & 8th St            623   \n",
      "78807              13021    Kingsbury St & Kinzie St   KA1503000043   \n",
      "28238              13278     Broadway & Waveland Ave          13325   \n",
      "24395              13109    Western Ave & Leland Ave   TA1307000140   \n",
      "75131       TA1309000039   Clark St & Wellington Ave   TA1307000136   \n",
      "\n",
      "         start_lat  start_lng    end_lat    end_lng member_casual  \\\n",
      "5722878  41.889923 -87.634291  41.872078 -87.629544        member   \n",
      "5669344  41.857901 -87.668745  41.858166 -87.656495        member   \n",
      "5691656  41.791478 -87.599861  41.785097 -87.601073        casual   \n",
      "5600598  41.929150 -87.649079  41.935880 -87.678420        member   \n",
      "5668960  41.785097 -87.601073  41.787943 -87.588315        member   \n",
      "...            ...        ...        ...        ...           ...   \n",
      "5027     41.881032 -87.624084  41.872773 -87.623981        casual   \n",
      "78807    41.885637 -87.641823  41.889177 -87.638506        member   \n",
      "28238    41.945529 -87.646439  41.949074 -87.648636        member   \n",
      "24395    41.978369 -87.659778  41.966400 -87.688704        casual   \n",
      "75131    41.932588 -87.636427  41.936497 -87.647539        casual   \n",
      "\n",
      "         ride_length day_of_week  month month_name  \n",
      "5722878         7.07     Tuesday      1        Jan  \n",
      "5669344         4.33     Tuesday      1        Jan  \n",
      "5691656         4.23     Tuesday      1        Jan  \n",
      "5600598         7.02     Tuesday      1        Jan  \n",
      "5668960         5.38     Tuesday      1        Jan  \n",
      "...              ...         ...    ...        ...  \n",
      "5027           39.85     Tuesday      2        Feb  \n",
      "78807           3.48     Tuesday      2        Feb  \n",
      "28238           1.98     Tuesday      2        Feb  \n",
      "24395          12.70     Tuesday      2        Feb  \n",
      "75131           6.32     Tuesday      2        Feb  \n",
      "\n",
      "[4437514 rows x 17 columns]\n"
     ]
    }
   ],
   "source": [
    "# Day_of_week\n",
    "# This colum will contain the day of the week a ride started\n",
    "df_clean[\"day_of_week\"] = df_clean[\"started_at\"].dt.day_name()\n",
    "\n",
    "# Month columns\n",
    "df_clean[\"month\"] = pd.DatetimeIndex(df_clean[\"started_at\"]).month\n",
    "df_clean[\"month_name\"] = df_clean[\"started_at\"].dt.strftime(\"%b\")\n",
    "print(df_clean)"
   ]
  },
  {
   "cell_type": "code",
   "execution_count": 162,
   "id": "752c70a2",
   "metadata": {},
   "outputs": [
    {
     "name": "stdout",
     "output_type": "stream",
     "text": [
      "          start_lat     start_lng       end_lat       end_lng   ride_length  \\\n",
      "count  4.437514e+06  4.437514e+06  4.437514e+06  4.437514e+06  4.437514e+06   \n",
      "mean   4.190188e+01 -8.764484e+01  4.190212e+01 -8.764494e+01  1.696546e+01   \n",
      "std    4.264937e-02  2.495234e-02  7.070922e-02  1.203367e-01  4.259894e+01   \n",
      "min    4.164850e+01 -8.783332e+01  0.000000e+00 -8.783000e+01 -1.687000e+02   \n",
      "25%    4.188103e+01 -8.765814e+01  4.188103e+01 -8.765842e+01  6.000000e+00   \n",
      "50%    4.189689e+01 -8.764182e+01  4.189766e+01 -8.764275e+01  1.052000e+01   \n",
      "75%    4.192877e+01 -8.762858e+01  4.192883e+01 -8.762858e+01  1.888000e+01   \n",
      "max    4.206487e+01 -8.752531e+01  4.206485e+01  0.000000e+00  3.435407e+04   \n",
      "\n",
      "              month  \n",
      "count  4.437514e+06  \n",
      "mean   6.994587e+00  \n",
      "std    2.602655e+00  \n",
      "min    1.000000e+00  \n",
      "25%    5.000000e+00  \n",
      "50%    7.000000e+00  \n",
      "75%    9.000000e+00  \n",
      "max    1.200000e+01  \n"
     ]
    }
   ],
   "source": [
    "# Data Summary\n",
    "data_summary = df_clean.describe()\n",
    "print(data_summary)"
   ]
  },
  {
   "cell_type": "code",
   "execution_count": 163,
   "id": "7d631d95",
   "metadata": {},
   "outputs": [
    {
     "name": "stdout",
     "output_type": "stream",
     "text": [
      "Rows with negative ride length value                   ride_id  rideable_type          started_at  \\\n",
      "5263805  9709ACD5F0E8222D   classic_bike 2022-11-14 00:21:59   \n",
      "5217426  8BC7D5602F31D869  electric_bike 2022-11-06 01:52:40   \n",
      "5217408  C7141D479EB80507  electric_bike 2022-11-06 01:56:47   \n",
      "5215667  8E63B36510B38694  electric_bike 2022-11-06 01:54:30   \n",
      "5217406  72C7B4E6882492B1  electric_bike 2022-11-06 01:37:55   \n",
      "...                   ...            ...                 ...   \n",
      "2617739  461CC55C9B00468B  electric_bike 2022-07-09 20:31:40   \n",
      "1532290  072E947E156D142D  electric_bike 2022-06-07 19:14:46   \n",
      "1707035  BF114472ABA0289C  electric_bike 2022-06-07 19:14:47   \n",
      "302998   7407049C5D89A13D  electric_bike 2022-03-05 11:38:04   \n",
      "299821   2D97E3C98E165D80   classic_bike 2022-03-05 11:00:57   \n",
      "\n",
      "                   ended_at                      start_station_name  \\\n",
      "5263805 2022-11-14 00:17:36              Fort Dearborn Dr & 31st St   \n",
      "5217426 2022-11-06 01:37:18                    McClurg Ct & Ohio St   \n",
      "5217408 2022-11-06 01:37:15                    McClurg Ct & Ohio St   \n",
      "5215667 2022-11-06 01:37:13                    McClurg Ct & Ohio St   \n",
      "5217406 2022-11-06 01:37:10                    McClurg Ct & Ohio St   \n",
      "...                     ...                                     ...   \n",
      "2617739 2022-07-09 20:30:17                Leavitt St & Chicago Ave   \n",
      "1532290 2022-06-07 17:07:45        W Armitage Ave & N Sheffield Ave   \n",
      "1707035 2022-06-07 17:05:42                   Base - 2132 W Hubbard   \n",
      "302998  2022-03-05 11:37:57          Sheffield Ave & Wellington Ave   \n",
      "299821  2022-03-05 10:55:01  DuSable Lake Shore Dr & Wellington Ave   \n",
      "\n",
      "                            start_station_id  \\\n",
      "5263805                         TA1307000048   \n",
      "5217426                         TA1306000029   \n",
      "5217408                         TA1306000029   \n",
      "5215667                         TA1306000029   \n",
      "5217406                         TA1306000029   \n",
      "...                                      ...   \n",
      "2617739                                18058   \n",
      "1532290                              20254.0   \n",
      "1707035  Hubbard Bike-checking (LBS-WH-TEST)   \n",
      "302998                          TA1307000052   \n",
      "299821                          TA1307000041   \n",
      "\n",
      "                               end_station_name end_station_id  start_lat  \\\n",
      "5263805                     MLK Jr Dr & 29th St   TA1307000139  41.838556   \n",
      "5217426                    McClurg Ct & Ohio St   TA1306000029  41.892879   \n",
      "5217408                    McClurg Ct & Ohio St   TA1306000029  41.892978   \n",
      "5215667                    McClurg Ct & Ohio St   TA1306000029  41.892331   \n",
      "5217406                    McClurg Ct & Ohio St   TA1306000029  41.892992   \n",
      "...                                         ...            ...        ...   \n",
      "2617739                Leavitt St & Chicago Ave          18058  41.895502   \n",
      "1532290        W Armitage Ave & N Sheffield Ave        20254.0  41.920000   \n",
      "1707035        W Armitage Ave & N Sheffield Ave        20254.0  41.917831   \n",
      "302998           Sheffield Ave & Wellington Ave   TA1307000052  41.936313   \n",
      "299821   DuSable Lake Shore Dr & Wellington Ave   TA1307000041  41.936688   \n",
      "\n",
      "         start_lng    end_lat    end_lng member_casual  ride_length  \\\n",
      "5263805 -87.608218  41.842052 -87.617000        member        -4.38   \n",
      "5217426 -87.617356  41.892592 -87.617289        casual       -15.37   \n",
      "5217408 -87.617424  41.892592 -87.617289        casual       -19.53   \n",
      "5215667 -87.617374  41.892592 -87.617289        casual       -17.28   \n",
      "5217406 -87.617482  41.892592 -87.617289        casual        -0.75   \n",
      "...            ...        ...        ...           ...          ...   \n",
      "2617739 -87.682017  41.895501 -87.682017        member        -1.38   \n",
      "1532290 -87.650000  41.920000 -87.650000        casual      -127.02   \n",
      "1707035 -87.653363  41.920000 -87.650000        member      -129.08   \n",
      "302998  -87.652522  41.936253 -87.652662        casual        -0.12   \n",
      "299821  -87.636829  41.936688 -87.636829        casual        -5.93   \n",
      "\n",
      "        day_of_week  month month_name  \n",
      "5263805      Monday     11        Nov  \n",
      "5217426      Sunday     11        Nov  \n",
      "5217408      Sunday     11        Nov  \n",
      "5215667      Sunday     11        Nov  \n",
      "5217406      Sunday     11        Nov  \n",
      "...             ...    ...        ...  \n",
      "2617739    Saturday      7        Jul  \n",
      "1532290     Tuesday      6        Jun  \n",
      "1707035     Tuesday      6        Jun  \n",
      "302998     Saturday      3        Mar  \n",
      "299821     Saturday      3        Mar  \n",
      "\n",
      "[69 rows x 17 columns]\n"
     ]
    }
   ],
   "source": [
    "# We notice that ride_length has a negative value \n",
    "neg_ride_length = df_clean[df_clean[\"ride_length\"] < 0]\n",
    "print(f\"Rows with negative ride length value {neg_ride_length}\")"
   ]
  },
  {
   "cell_type": "code",
   "execution_count": 164,
   "id": "1e355382",
   "metadata": {},
   "outputs": [
    {
     "data": {
      "text/html": [
       "<div>\n",
       "<style scoped>\n",
       "    .dataframe tbody tr th:only-of-type {\n",
       "        vertical-align: middle;\n",
       "    }\n",
       "\n",
       "    .dataframe tbody tr th {\n",
       "        vertical-align: top;\n",
       "    }\n",
       "\n",
       "    .dataframe thead th {\n",
       "        text-align: right;\n",
       "    }\n",
       "</style>\n",
       "<table border=\"1\" class=\"dataframe\">\n",
       "  <thead>\n",
       "    <tr style=\"text-align: right;\">\n",
       "      <th></th>\n",
       "      <th>ride_id</th>\n",
       "      <th>rideable_type</th>\n",
       "      <th>started_at</th>\n",
       "      <th>ended_at</th>\n",
       "      <th>start_station_name</th>\n",
       "      <th>start_station_id</th>\n",
       "      <th>end_station_name</th>\n",
       "      <th>end_station_id</th>\n",
       "      <th>start_lat</th>\n",
       "      <th>start_lng</th>\n",
       "      <th>end_lat</th>\n",
       "      <th>end_lng</th>\n",
       "      <th>member_casual</th>\n",
       "      <th>ride_length</th>\n",
       "      <th>day_of_week</th>\n",
       "      <th>month</th>\n",
       "      <th>month_name</th>\n",
       "    </tr>\n",
       "  </thead>\n",
       "  <tbody>\n",
       "    <tr>\n",
       "      <th>5722878</th>\n",
       "      <td>56FF83E0D18B8AAB</td>\n",
       "      <td>electric_bike</td>\n",
       "      <td>2023-01-31 23:51:57</td>\n",
       "      <td>2023-01-31 23:59:01</td>\n",
       "      <td>Wells St &amp; Hubbard St</td>\n",
       "      <td>TA1307000151</td>\n",
       "      <td>Federal St &amp; Polk St</td>\n",
       "      <td>SL-008</td>\n",
       "      <td>41.889923</td>\n",
       "      <td>-87.634291</td>\n",
       "      <td>41.872078</td>\n",
       "      <td>-87.629544</td>\n",
       "      <td>member</td>\n",
       "      <td>7.07</td>\n",
       "      <td>Tuesday</td>\n",
       "      <td>1</td>\n",
       "      <td>Jan</td>\n",
       "    </tr>\n",
       "    <tr>\n",
       "      <th>5669344</th>\n",
       "      <td>D915F47D01416C18</td>\n",
       "      <td>classic_bike</td>\n",
       "      <td>2023-01-31 23:53:18</td>\n",
       "      <td>2023-01-31 23:57:38</td>\n",
       "      <td>Paulina St &amp; 18th St</td>\n",
       "      <td>TA1307000159</td>\n",
       "      <td>Racine Ave &amp; 18th St</td>\n",
       "      <td>13164</td>\n",
       "      <td>41.857901</td>\n",
       "      <td>-87.668745</td>\n",
       "      <td>41.858166</td>\n",
       "      <td>-87.656495</td>\n",
       "      <td>member</td>\n",
       "      <td>4.33</td>\n",
       "      <td>Tuesday</td>\n",
       "      <td>1</td>\n",
       "      <td>Jan</td>\n",
       "    </tr>\n",
       "    <tr>\n",
       "      <th>5691656</th>\n",
       "      <td>03C7B7A14C694AEB</td>\n",
       "      <td>classic_bike</td>\n",
       "      <td>2023-01-31 23:51:19</td>\n",
       "      <td>2023-01-31 23:55:33</td>\n",
       "      <td>University Ave &amp; 57th St</td>\n",
       "      <td>KA1503000071</td>\n",
       "      <td>Ellis Ave &amp; 60th St</td>\n",
       "      <td>KA1503000014</td>\n",
       "      <td>41.791478</td>\n",
       "      <td>-87.599861</td>\n",
       "      <td>41.785097</td>\n",
       "      <td>-87.601073</td>\n",
       "      <td>casual</td>\n",
       "      <td>4.23</td>\n",
       "      <td>Tuesday</td>\n",
       "      <td>1</td>\n",
       "      <td>Jan</td>\n",
       "    </tr>\n",
       "    <tr>\n",
       "      <th>5600598</th>\n",
       "      <td>22E722436010598E</td>\n",
       "      <td>electric_bike</td>\n",
       "      <td>2023-01-31 23:48:16</td>\n",
       "      <td>2023-01-31 23:55:17</td>\n",
       "      <td>Halsted St &amp; Wrightwood Ave</td>\n",
       "      <td>TA1309000061</td>\n",
       "      <td>Damen Ave &amp; Wellington Ave</td>\n",
       "      <td>13268</td>\n",
       "      <td>41.929150</td>\n",
       "      <td>-87.649079</td>\n",
       "      <td>41.935880</td>\n",
       "      <td>-87.678420</td>\n",
       "      <td>member</td>\n",
       "      <td>7.02</td>\n",
       "      <td>Tuesday</td>\n",
       "      <td>1</td>\n",
       "      <td>Jan</td>\n",
       "    </tr>\n",
       "    <tr>\n",
       "      <th>5668960</th>\n",
       "      <td>753C27BC337EBD39</td>\n",
       "      <td>classic_bike</td>\n",
       "      <td>2023-01-31 23:47:19</td>\n",
       "      <td>2023-01-31 23:52:42</td>\n",
       "      <td>Ellis Ave &amp; 60th St</td>\n",
       "      <td>KA1503000014</td>\n",
       "      <td>Harper Ave &amp; 59th St</td>\n",
       "      <td>KA1503000070</td>\n",
       "      <td>41.785097</td>\n",
       "      <td>-87.601073</td>\n",
       "      <td>41.787943</td>\n",
       "      <td>-87.588315</td>\n",
       "      <td>member</td>\n",
       "      <td>5.38</td>\n",
       "      <td>Tuesday</td>\n",
       "      <td>1</td>\n",
       "      <td>Jan</td>\n",
       "    </tr>\n",
       "    <tr>\n",
       "      <th>...</th>\n",
       "      <td>...</td>\n",
       "      <td>...</td>\n",
       "      <td>...</td>\n",
       "      <td>...</td>\n",
       "      <td>...</td>\n",
       "      <td>...</td>\n",
       "      <td>...</td>\n",
       "      <td>...</td>\n",
       "      <td>...</td>\n",
       "      <td>...</td>\n",
       "      <td>...</td>\n",
       "      <td>...</td>\n",
       "      <td>...</td>\n",
       "      <td>...</td>\n",
       "      <td>...</td>\n",
       "      <td>...</td>\n",
       "      <td>...</td>\n",
       "    </tr>\n",
       "    <tr>\n",
       "      <th>5027</th>\n",
       "      <td>CD92D9AF505AA077</td>\n",
       "      <td>classic_bike</td>\n",
       "      <td>2022-02-01 00:08:02</td>\n",
       "      <td>2022-02-01 00:47:53</td>\n",
       "      <td>Millennium Park</td>\n",
       "      <td>13008</td>\n",
       "      <td>Michigan Ave &amp; 8th St</td>\n",
       "      <td>623</td>\n",
       "      <td>41.881032</td>\n",
       "      <td>-87.624084</td>\n",
       "      <td>41.872773</td>\n",
       "      <td>-87.623981</td>\n",
       "      <td>casual</td>\n",
       "      <td>39.85</td>\n",
       "      <td>Tuesday</td>\n",
       "      <td>2</td>\n",
       "      <td>Feb</td>\n",
       "    </tr>\n",
       "    <tr>\n",
       "      <th>78807</th>\n",
       "      <td>8EE14664AD0206CB</td>\n",
       "      <td>classic_bike</td>\n",
       "      <td>2022-02-01 00:35:38</td>\n",
       "      <td>2022-02-01 00:39:07</td>\n",
       "      <td>Clinton St &amp; Lake St</td>\n",
       "      <td>13021</td>\n",
       "      <td>Kingsbury St &amp; Kinzie St</td>\n",
       "      <td>KA1503000043</td>\n",
       "      <td>41.885637</td>\n",
       "      <td>-87.641823</td>\n",
       "      <td>41.889177</td>\n",
       "      <td>-87.638506</td>\n",
       "      <td>member</td>\n",
       "      <td>3.48</td>\n",
       "      <td>Tuesday</td>\n",
       "      <td>2</td>\n",
       "      <td>Feb</td>\n",
       "    </tr>\n",
       "    <tr>\n",
       "      <th>28238</th>\n",
       "      <td>AA521076CE8B981C</td>\n",
       "      <td>classic_bike</td>\n",
       "      <td>2022-02-01 00:28:11</td>\n",
       "      <td>2022-02-01 00:30:10</td>\n",
       "      <td>Broadway &amp; Cornelia Ave</td>\n",
       "      <td>13278</td>\n",
       "      <td>Broadway &amp; Waveland Ave</td>\n",
       "      <td>13325</td>\n",
       "      <td>41.945529</td>\n",
       "      <td>-87.646439</td>\n",
       "      <td>41.949074</td>\n",
       "      <td>-87.648636</td>\n",
       "      <td>member</td>\n",
       "      <td>1.98</td>\n",
       "      <td>Tuesday</td>\n",
       "      <td>2</td>\n",
       "      <td>Feb</td>\n",
       "    </tr>\n",
       "    <tr>\n",
       "      <th>24395</th>\n",
       "      <td>E7F30D46ACF9071D</td>\n",
       "      <td>electric_bike</td>\n",
       "      <td>2022-02-01 00:04:30</td>\n",
       "      <td>2022-02-01 00:17:12</td>\n",
       "      <td>Broadway &amp; Berwyn Ave</td>\n",
       "      <td>13109</td>\n",
       "      <td>Western Ave &amp; Leland Ave</td>\n",
       "      <td>TA1307000140</td>\n",
       "      <td>41.978369</td>\n",
       "      <td>-87.659778</td>\n",
       "      <td>41.966400</td>\n",
       "      <td>-87.688704</td>\n",
       "      <td>casual</td>\n",
       "      <td>12.70</td>\n",
       "      <td>Tuesday</td>\n",
       "      <td>2</td>\n",
       "      <td>Feb</td>\n",
       "    </tr>\n",
       "    <tr>\n",
       "      <th>75131</th>\n",
       "      <td>6325229942E058A1</td>\n",
       "      <td>classic_bike</td>\n",
       "      <td>2022-02-01 00:03:18</td>\n",
       "      <td>2022-02-01 00:09:37</td>\n",
       "      <td>DuSable Lake Shore Dr &amp; Diversey Pkwy</td>\n",
       "      <td>TA1309000039</td>\n",
       "      <td>Clark St &amp; Wellington Ave</td>\n",
       "      <td>TA1307000136</td>\n",
       "      <td>41.932588</td>\n",
       "      <td>-87.636427</td>\n",
       "      <td>41.936497</td>\n",
       "      <td>-87.647539</td>\n",
       "      <td>casual</td>\n",
       "      <td>6.32</td>\n",
       "      <td>Tuesday</td>\n",
       "      <td>2</td>\n",
       "      <td>Feb</td>\n",
       "    </tr>\n",
       "  </tbody>\n",
       "</table>\n",
       "<p>4437202 rows × 17 columns</p>\n",
       "</div>"
      ],
      "text/plain": [
       "                  ride_id  rideable_type          started_at  \\\n",
       "5722878  56FF83E0D18B8AAB  electric_bike 2023-01-31 23:51:57   \n",
       "5669344  D915F47D01416C18   classic_bike 2023-01-31 23:53:18   \n",
       "5691656  03C7B7A14C694AEB   classic_bike 2023-01-31 23:51:19   \n",
       "5600598  22E722436010598E  electric_bike 2023-01-31 23:48:16   \n",
       "5668960  753C27BC337EBD39   classic_bike 2023-01-31 23:47:19   \n",
       "...                   ...            ...                 ...   \n",
       "5027     CD92D9AF505AA077   classic_bike 2022-02-01 00:08:02   \n",
       "78807    8EE14664AD0206CB   classic_bike 2022-02-01 00:35:38   \n",
       "28238    AA521076CE8B981C   classic_bike 2022-02-01 00:28:11   \n",
       "24395    E7F30D46ACF9071D  electric_bike 2022-02-01 00:04:30   \n",
       "75131    6325229942E058A1   classic_bike 2022-02-01 00:03:18   \n",
       "\n",
       "                   ended_at                     start_station_name  \\\n",
       "5722878 2023-01-31 23:59:01                  Wells St & Hubbard St   \n",
       "5669344 2023-01-31 23:57:38                   Paulina St & 18th St   \n",
       "5691656 2023-01-31 23:55:33               University Ave & 57th St   \n",
       "5600598 2023-01-31 23:55:17            Halsted St & Wrightwood Ave   \n",
       "5668960 2023-01-31 23:52:42                    Ellis Ave & 60th St   \n",
       "...                     ...                                    ...   \n",
       "5027    2022-02-01 00:47:53                        Millennium Park   \n",
       "78807   2022-02-01 00:39:07                   Clinton St & Lake St   \n",
       "28238   2022-02-01 00:30:10                Broadway & Cornelia Ave   \n",
       "24395   2022-02-01 00:17:12                  Broadway & Berwyn Ave   \n",
       "75131   2022-02-01 00:09:37  DuSable Lake Shore Dr & Diversey Pkwy   \n",
       "\n",
       "        start_station_id            end_station_name end_station_id  \\\n",
       "5722878     TA1307000151        Federal St & Polk St         SL-008   \n",
       "5669344     TA1307000159        Racine Ave & 18th St          13164   \n",
       "5691656     KA1503000071         Ellis Ave & 60th St   KA1503000014   \n",
       "5600598     TA1309000061  Damen Ave & Wellington Ave          13268   \n",
       "5668960     KA1503000014        Harper Ave & 59th St   KA1503000070   \n",
       "...                  ...                         ...            ...   \n",
       "5027               13008       Michigan Ave & 8th St            623   \n",
       "78807              13021    Kingsbury St & Kinzie St   KA1503000043   \n",
       "28238              13278     Broadway & Waveland Ave          13325   \n",
       "24395              13109    Western Ave & Leland Ave   TA1307000140   \n",
       "75131       TA1309000039   Clark St & Wellington Ave   TA1307000136   \n",
       "\n",
       "         start_lat  start_lng    end_lat    end_lng member_casual  \\\n",
       "5722878  41.889923 -87.634291  41.872078 -87.629544        member   \n",
       "5669344  41.857901 -87.668745  41.858166 -87.656495        member   \n",
       "5691656  41.791478 -87.599861  41.785097 -87.601073        casual   \n",
       "5600598  41.929150 -87.649079  41.935880 -87.678420        member   \n",
       "5668960  41.785097 -87.601073  41.787943 -87.588315        member   \n",
       "...            ...        ...        ...        ...           ...   \n",
       "5027     41.881032 -87.624084  41.872773 -87.623981        casual   \n",
       "78807    41.885637 -87.641823  41.889177 -87.638506        member   \n",
       "28238    41.945529 -87.646439  41.949074 -87.648636        member   \n",
       "24395    41.978369 -87.659778  41.966400 -87.688704        casual   \n",
       "75131    41.932588 -87.636427  41.936497 -87.647539        casual   \n",
       "\n",
       "         ride_length day_of_week  month month_name  \n",
       "5722878         7.07     Tuesday      1        Jan  \n",
       "5669344         4.33     Tuesday      1        Jan  \n",
       "5691656         4.23     Tuesday      1        Jan  \n",
       "5600598         7.02     Tuesday      1        Jan  \n",
       "5668960         5.38     Tuesday      1        Jan  \n",
       "...              ...         ...    ...        ...  \n",
       "5027           39.85     Tuesday      2        Feb  \n",
       "78807           3.48     Tuesday      2        Feb  \n",
       "28238           1.98     Tuesday      2        Feb  \n",
       "24395          12.70     Tuesday      2        Feb  \n",
       "75131           6.32     Tuesday      2        Feb  \n",
       "\n",
       "[4437202 rows x 17 columns]"
      ]
     },
     "execution_count": 164,
     "metadata": {},
     "output_type": "execute_result"
    }
   ],
   "source": [
    "# 69 rows have negative ride_length values which we will filter out before our analysis\n",
    "df_clean = df_clean[df_clean[\"ride_length\"] > 0]\n",
    "df_clean"
   ]
  },
  {
   "cell_type": "code",
   "execution_count": 165,
   "id": "ad753205",
   "metadata": {},
   "outputs": [
    {
     "name": "stdout",
     "output_type": "stream",
     "text": [
      "          start_lat     start_lng       end_lat       end_lng   ride_length  \\\n",
      "count  4.437202e+06  4.437202e+06  4.437202e+06  4.437202e+06  4.437202e+06   \n",
      "mean   4.190188e+01 -8.764484e+01  4.190212e+01 -8.764494e+01  1.696705e+01   \n",
      "std    4.264919e-02  2.495224e-02  7.071065e-02  1.203407e-01  4.259974e+01   \n",
      "min    4.164850e+01 -8.783332e+01  0.000000e+00 -8.783000e+01  2.000000e-02   \n",
      "25%    4.188103e+01 -8.765814e+01  4.188103e+01 -8.765842e+01  6.000000e+00   \n",
      "50%    4.189689e+01 -8.764182e+01  4.189766e+01 -8.764275e+01  1.052000e+01   \n",
      "75%    4.192877e+01 -8.762858e+01  4.192883e+01 -8.762858e+01  1.888000e+01   \n",
      "max    4.206487e+01 -8.752531e+01  4.206485e+01  0.000000e+00  3.435407e+04   \n",
      "\n",
      "              month  \n",
      "count  4.437202e+06  \n",
      "mean   6.994545e+00  \n",
      "std    2.602656e+00  \n",
      "min    1.000000e+00  \n",
      "25%    5.000000e+00  \n",
      "50%    7.000000e+00  \n",
      "75%    9.000000e+00  \n",
      "max    1.200000e+01  \n"
     ]
    }
   ],
   "source": [
    "# DATA ANALYSIS\n",
    "\n",
    "# SUMMARY\n",
    "data_descrption = df_clean.describe()\n",
    "print(data_descrption)"
   ]
  },
  {
   "cell_type": "code",
   "execution_count": 166,
   "id": "eac0912f",
   "metadata": {},
   "outputs": [],
   "source": [
    "# From the summary:\n",
    "# The average ride_length is 17 minutes.\n",
    "# The minimum value of ride_length in the data is 0.02, indicating that the shortest ride in the dataset was approximately 1.2 seconds long. \n",
    "# The maximum value of ride_length is 34,354.07, indicating that the longest ride in the dataset was over 23 days long. \n",
    "# Since ride_length is measured in minutes, the maximum value of 34,354.07 minutes corresponds to approximately 24 days and 1 hour."
   ]
  },
  {
   "cell_type": "code",
   "execution_count": 167,
   "id": "0cf9a8ea",
   "metadata": {},
   "outputs": [
    {
     "name": "stdout",
     "output_type": "stream",
     "text": [
      "Number of riders per category \n",
      " member    2662142\n",
      "casual    1775060\n",
      "Name: member_casual, dtype: int64\n"
     ]
    }
   ],
   "source": [
    "# Total number of riders per category\n",
    "total_riders = df_clean[\"member_casual\"].value_counts()\n",
    "print(\"Number of riders per category \\n\",total_riders)"
   ]
  },
  {
   "cell_type": "code",
   "execution_count": 168,
   "id": "97a75b45",
   "metadata": {},
   "outputs": [
    {
     "name": "stdout",
     "output_type": "stream",
     "text": [
      "Total riders using ride_id \n",
      " member_casual\n",
      "casual    1775060\n",
      "member    2662142\n",
      "Name: ride_id, dtype: int64\n"
     ]
    }
   ],
   "source": [
    "# Confirm the total number of bike-share riders\n",
    "total_riders_id = df_clean.groupby([\"member_casual\"])[\"ride_id\"].count()\n",
    "print(f\"Total riders using ride_id \\n {total_riders_id}\")"
   ]
  },
  {
   "cell_type": "code",
   "execution_count": 169,
   "id": "9a1af484",
   "metadata": {},
   "outputs": [
    {
     "data": {
      "image/png": "[encoded data removed]",
      "text/plain": [
       "<Figure size 700x300 with 1 Axes>"
      ]
     },
     "metadata": {},
     "output_type": "display_data"
    }
   ],
   "source": [
    "# Pie chart to show riders per category\n",
    "fig, ax = plt.subplots(figsize=(7, 3), dpi=100)\n",
    "labels = [\"Member\", \"Casual\"]\n",
    "colors = ['#BCEE68','#EE1289']\n",
    "plt.pie(x=total_riders, autopct=\"%.1f%%\",colors=colors,labels=labels) \n",
    "ax.set_title(\"Total Bike Hires Per Rider Category\", pad=14, fontsize=12, loc=\"center\")\n",
    "plt.savefig(\"pie_total_category.png\", dpi=300)\n",
    "plt.show()"
   ]
  },
  {
   "cell_type": "code",
   "execution_count": 170,
   "id": "e506a144",
   "metadata": {},
   "outputs": [
    {
     "name": "stdout",
     "output_type": "stream",
     "text": [
      "    Month  Total Hires\n",
      "0       1       148278\n",
      "1      12       135393\n",
      "2      11       255752\n",
      "3      10       414238\n",
      "4       9       535119\n",
      "5       8       605275\n",
      "6       7       642629\n",
      "7       6       620311\n",
      "8       5       502516\n",
      "9       4       272546\n",
      "10      3       215971\n",
      "11      2        89174\n"
     ]
    }
   ],
   "source": [
    "# Find out how bike hires were distibuted throughout the year\n",
    "\n",
    "ride_hires_per_month = (\n",
    "    df_clean[\"month\"]\n",
    "    .value_counts(sort=False)\n",
    "    .rename_axis(\"Month\")\n",
    "    .reset_index(name=\"Total Hires\")\n",
    ")\n",
    "\n",
    "months = [\n",
    "    \"Jan\",\n",
    "    \"Feb\",\n",
    "    \"Mar\",\n",
    "    \"Apr\",\n",
    "    \"May\",\n",
    "    \"Jun\",\n",
    "    \"Jul\",\n",
    "    \"Aug\",\n",
    "    \"Sep\",\n",
    "    \"Oct\",\n",
    "    \"Nov\",\n",
    "    \"Dec\",\n",
    "]\n",
    "print(ride_hires_per_month)"
   ]
  },
  {
   "cell_type": "code",
   "execution_count": 171,
   "id": "fc8dc1f0",
   "metadata": {},
   "outputs": [
    {
     "data": {
      "image/png": "[encoded data removed]",
      "text/plain": [
       "<Figure size 1000x400 with 1 Axes>"
      ]
     },
     "metadata": {},
     "output_type": "display_data"
    }
   ],
   "source": [
    "plt.figure(figsize=(10, 4), dpi=100)\n",
    "plt.title(\"Total Bike Hires per Month\", loc=\"left\", pad=14)\n",
    "sns.barplot(data=ride_hires_per_month, x=months, y=\"Total Hires\")\n",
    "plt.savefig(\"total_hires_per_month.png\", dpi=300)\n",
    "plt.show()"
   ]
  },
  {
   "cell_type": "code",
   "execution_count": 172,
   "id": "91d584b7",
   "metadata": {},
   "outputs": [
    {
     "name": "stdout",
     "output_type": "stream",
     "text": [
      "         Day  Total Hires\n",
      "0   Saturday       709560\n",
      "1   Thursday       654343\n",
      "2  Wednesday       628631\n",
      "3    Tuesday       623929\n",
      "4     Friday       617397\n",
      "5     Sunday       607386\n",
      "6     Monday       595956\n"
     ]
    }
   ],
   "source": [
    "# Find out what days of the week have the most bike hires\n",
    "\n",
    "hires_per_day = (\n",
    "    df_clean[\"day_of_week\"]\n",
    "    .value_counts()\n",
    "    .rename_axis(\"Day\")\n",
    "    .reset_index(name=\"Total Hires\")\n",
    ")\n",
    "hires_per_day.sort_values(by=[\"Total Hires\"], inplace=True, ascending=False)\n",
    "print(hires_per_day)"
   ]
  },
  {
   "cell_type": "code",
   "execution_count": 173,
   "id": "a2b01aa4",
   "metadata": {},
   "outputs": [
    {
     "data": {
      "image/png": "[encoded data removed]",
      "text/plain": [
       "<Figure size 1000x400 with 1 Axes>"
      ]
     },
     "metadata": {},
     "output_type": "display_data"
    }
   ],
   "source": [
    "plt.figure(figsize=(10, 4), dpi=100)\n",
    "plt.title(\"Total Bike Hires per Day of the Week\", loc=\"left\", pad=14)\n",
    "sns.barplot(data=hires_per_day, x=\"Day\", y=\"Total Hires\")\n",
    "plt.savefig(\"totalhire_per_day.png\", dpi=300)\n",
    "plt.show()"
   ]
  },
  {
   "cell_type": "code",
   "execution_count": 174,
   "id": "c4a26d6e",
   "metadata": {},
   "outputs": [
    {
     "name": "stdout",
     "output_type": "stream",
     "text": [
      "            casual  member Month\n",
      "month_name                      \n",
      "Jul         311649  330980   Jul\n",
      "Jun         292053  328258   Jun\n",
      "Aug         270074  335201   Aug\n",
      "Sep         220905  314214   Sep\n",
      "May         220232  282284   May\n",
      "Oct         151312  262926   Oct\n",
      "Apr          91889  180657   Apr\n",
      "Nov          73533  182219   Nov\n",
      "Mar          67150  148821   Mar\n",
      "Dec          31502  103891   Dec\n",
      "Jan          29618  118660   Jan\n",
      "Feb          15143   74031   Feb\n"
     ]
    }
   ],
   "source": [
    "# Bike hires per category per month\n",
    "# Find out how ridership compares each month for the two rider categories\n",
    "\n",
    "monthly_bike_hires_per_customer_category = df_clean.groupby([\"member_casual\"])[\n",
    "    \"month_name\"\n",
    "].value_counts(sort=True)\n",
    "\n",
    "cm_month = pd.DataFrame()\n",
    "cm_month[\"casual\"] = monthly_bike_hires_per_customer_category[\"casual\"]\n",
    "cm_month[\"member\"] = monthly_bike_hires_per_customer_category[\"member\"]\n",
    "cm_month[\"Month\"] = monthly_casual_member_df.index\n",
    "\n",
    "\n",
    "print(cm_month)"
   ]
  },
  {
   "cell_type": "code",
   "execution_count": 175,
   "id": "0bbd05f7",
   "metadata": {},
   "outputs": [
    {
     "data": {
      "image/png": "[encoded data removed]",
      "text/plain": [
       "<Figure size 1000x600 with 1 Axes>"
      ]
     },
     "metadata": {},
     "output_type": "display_data"
    }
   ],
   "source": [
    "# Reshape the data to a long format\n",
    "monthly_casual_member_melted = cm_month.melt(id_vars=[\"Month\"], \n",
    "                                                             var_name=\"Category\",\n",
    "                                                             value_name=\"Number of Hires\")\n",
    "\n",
    "# Plot the data using a bar plot\n",
    "plt.figure(figsize=(10, 6))\n",
    "sns.barplot(x=\"Month\", y=\"Number of Hires\", hue=\"Category\", data=monthly_casual_member_melted, palette=\"rocket\")\n",
    "plt.title(\"Bike hires per category per month\")\n",
    "plt.xlabel(\"Month\")\n",
    "plt.ylabel(\"Number of hires\")\n",
    "plt.savefig(\"bikehires_per_month.png\", dpi=300)\n",
    "plt.show()"
   ]
  },
  {
   "cell_type": "code",
   "execution_count": 176,
   "id": "829d26ce",
   "metadata": {
    "scrolled": false
   },
   "outputs": [
    {
     "name": "stdout",
     "output_type": "stream",
     "text": [
      "member_casual  day_of_week\n",
      "casual         Saturday       368373\n",
      "               Sunday         304411\n",
      "               Friday         250690\n",
      "               Thursday       231902\n",
      "               Monday         213346\n",
      "               Wednesday      206439\n",
      "               Tuesday        199899\n",
      "member         Tuesday        424030\n",
      "               Thursday       422441\n",
      "               Wednesday      422192\n",
      "               Monday         382610\n",
      "               Friday         366707\n",
      "               Saturday       341187\n",
      "               Sunday         302975\n",
      "Name: day_of_week, dtype: int64\n",
      "             casual  member        Day\n",
      "day_of_week                           \n",
      "Saturday     368373  341187   Saturday\n",
      "Sunday       304411  302975     Sunday\n",
      "Friday       250690  366707     Friday\n",
      "Thursday     231902  422441   Thursday\n",
      "Monday       213346  382610     Monday\n",
      "Wednesday    206439  422192  Wednesday\n",
      "Tuesday      199899  424030    Tuesday\n"
     ]
    }
   ],
   "source": [
    "# Bike hires per category per day\n",
    "# Find out how ridership compares every day for the two rider categories\n",
    "\n",
    "bike_hires_per_customer_category = df_clean.groupby([\"member_casual\"])[\n",
    "    \"day_of_week\"].value_counts(sort=True)\n",
    "print(bike_hires_per_customer_category)\n",
    "\n",
    "cm_day = pd.DataFrame()\n",
    "cm_day[\"casual\"] = bike_hires_per_customer_category[\"casual\"]\n",
    "cm_day[\"member\"] = bike_hires_per_customer_category[\"member\"]\n",
    "cm_day[\"Day\"] = casual_member_df.index\n",
    "\n",
    "print(cm_day)"
   ]
  },
  {
   "cell_type": "code",
   "execution_count": 177,
   "id": "9b09191e",
   "metadata": {},
   "outputs": [
    {
     "data": {
      "image/png": "[encoded data removed]",
      "text/plain": [
       "<Figure size 1000x600 with 1 Axes>"
      ]
     },
     "metadata": {},
     "output_type": "display_data"
    }
   ],
   "source": [
    "# Reshape the data to a long format\n",
    "daily_casual_member_melted = cm_day.melt(id_vars=[\"Day\"], \n",
    "                                        var_name=\"Category\",\n",
    "                                        value_name=\"Number of Hires\")\n",
    "\n",
    "plt.figure(figsize=(10, 6))\n",
    "sns.barplot(x=\"Day\", y=\"Number of Hires\", hue=\"Category\", data=daily_casual_member_melted, palette=\"rocket\")\n",
    "plt.title(\"Bike hires per category per day\")\n",
    "plt.xlabel(\"Day\")\n",
    "plt.ylabel(\"Number of hires\")\n",
    "plt.savefig(\"bikehires_per_day.png\", dpi=300)\n",
    "plt.show()"
   ]
  },
  {
   "cell_type": "code",
   "execution_count": 178,
   "id": "9c6ac9d9",
   "metadata": {},
   "outputs": [
    {
     "name": "stdout",
     "output_type": "stream",
     "text": [
      "The average ride length per category member_casual\n",
      "casual    23.818559\n",
      "member    12.398602\n",
      "Name: ride_length, dtype: float64\n"
     ]
    },
    {
     "data": {
      "image/png": "[encoded data removed]",
      "text/plain": [
       "<Figure size 640x480 with 1 Axes>"
      ]
     },
     "metadata": {},
     "output_type": "display_data"
    }
   ],
   "source": [
    "# Average ride length per category\n",
    "average_ride_length = df_clean.groupby([\"member_casual\"])[\"ride_length\"].mean()\n",
    "print(f\"The average ride length per category {average_ride_length}\")\n",
    "\n",
    "sns.barplot(x=average_ride_length.index, y=average_ride_length.values, palette=\"rocket\")\n",
    "plt.title(\"Average ride length per category\")\n",
    "plt.xlabel(\"Category\")\n",
    "plt.ylabel(\"Ride length (minutes)\")\n",
    "plt.savefig(\"average_ride_length_per_category.png\", dpi=300)\n",
    "plt.show()"
   ]
  },
  {
   "cell_type": "code",
   "execution_count": 179,
   "id": "2f876e72",
   "metadata": {},
   "outputs": [
    {
     "data": {
      "image/png": "[encoded data removed]",
      "text/plain": [
       "<Figure size 700x300 with 1 Axes>"
      ]
     },
     "metadata": {},
     "output_type": "display_data"
    }
   ],
   "source": [
    "fig, ax = plt.subplots(figsize=(7, 3), dpi=100)\n",
    "labels = [\"Casual\", \"Member\"]\n",
    "colors = ['#FFD700', '#FF4040']\n",
    "plt.pie(x=average_ride_length, autopct=\"%.1f%%\", labels=labels,colors=colors)\n",
    "ax.set_title(\"Average Ride Length\", pad=14, fontsize=12, loc=\"center\")\n",
    "plt.savefig(\"average_ride_length_per_category_pie.png\", dpi=300)\n",
    "plt.show()"
   ]
  },
  {
   "cell_type": "code",
   "execution_count": 180,
   "id": "f06037f2",
   "metadata": {},
   "outputs": [
    {
     "name": "stdout",
     "output_type": "stream",
     "text": [
      "Average ride length per category per day member_casual  day_of_week\n",
      "casual         Friday         22.222889\n",
      "               Monday         24.648717\n",
      "               Saturday       26.632828\n",
      "               Sunday         27.129646\n",
      "               Thursday       21.117125\n",
      "               Tuesday        21.292640\n",
      "               Wednesday      20.474581\n",
      "member         Friday         12.185252\n",
      "               Monday         11.968015\n",
      "               Saturday       13.947204\n",
      "               Sunday         13.801511\n",
      "               Thursday       11.984784\n",
      "               Tuesday        11.723913\n",
      "               Wednesday      11.807584\n",
      "Name: ride_length, dtype: float64\n",
      "                casual     member        Day\n",
      "day_of_week                                 \n",
      "Friday       22.222889  12.185252     Friday\n",
      "Monday       24.648717  11.968015     Monday\n",
      "Saturday     26.632828  13.947204   Saturday\n",
      "Sunday       27.129646  13.801511     Sunday\n",
      "Thursday     21.117125  11.984784   Thursday\n",
      "Tuesday      21.292640  11.723913    Tuesday\n",
      "Wednesday    20.474581  11.807584  Wednesday\n"
     ]
    }
   ],
   "source": [
    "# Average ride length for riders by days of the week\n",
    "\n",
    "average_daily_ride_length = df_clean.groupby([\"member_casual\", \"day_of_week\"])[\n",
    "    \"ride_length\"\n",
    "].mean()\n",
    "print(f\"Average ride length per category per day {average_daily_ride_length}\")\n",
    "\n",
    "weekly_average_ride_length_df = pd.DataFrame()\n",
    "\n",
    "weekly_average_ride_length_df[\"casual\"] = average_daily_ride_length[\"casual\"]\n",
    "weekly_average_ride_length_df[\"member\"] = average_daily_ride_length[\"member\"]\n",
    "weekly_average_ride_length_df[\"Day\"] = weekly_average_ride_length_df.index\n",
    "\n",
    "print(weekly_average_ride_length_df)"
   ]
  },
  {
   "cell_type": "code",
   "execution_count": 181,
   "id": "d4585656",
   "metadata": {},
   "outputs": [
    {
     "data": {
      "image/png": "[encoded data removed]",
      "text/plain": [
       "<Figure size 640x480 with 1 Axes>"
      ]
     },
     "metadata": {},
     "output_type": "display_data"
    }
   ],
   "source": [
    "# Reshape the data to a long format\n",
    "weekly_average_ride_length_melted = weekly_average_ride_length_df.melt(id_vars=[\"Day\"], \n",
    "                                                                       var_name=\"Category\", \n",
    "                                                                       value_name=\"Avg Ride Length\")\n",
    "\n",
    "# Create the line plot\n",
    "sns.lineplot(x=\"Day\", y=\"Avg Ride Length\", hue=\"Category\", data=weekly_average_ride_length_melted, palette=\"rocket\")\n",
    "\n",
    "# Add title and axis labels\n",
    "plt.title(\"Average ride length per category by day of the week\")\n",
    "plt.xlabel(\"Day of the week\")\n",
    "plt.ylabel(\"Average ride length (minutes)\")\n",
    "\n",
    "# Save the plot with a high resolution\n",
    "plt.savefig(\"weekly_average_ride_length.png\", dpi=300)\n",
    "\n",
    "# Show the plot\n",
    "plt.show()"
   ]
  },
  {
   "cell_type": "code",
   "execution_count": 182,
   "id": "c4977670",
   "metadata": {},
   "outputs": [
    {
     "name": "stdout",
     "output_type": "stream",
     "text": [
      "Average ride length per category per month member_casual  month_name\n",
      "casual         Apr           25.949134\n",
      "               Aug           23.285695\n",
      "               Dec           14.841845\n",
      "               Feb           24.825196\n",
      "               Jan           14.880357\n",
      "               Jul           25.095020\n",
      "               Jun           25.020218\n",
      "               Mar           28.438877\n",
      "               May           27.706539\n",
      "               Nov           17.246721\n",
      "               Oct           20.469450\n",
      "               Sep           21.804793\n",
      "member         Apr           11.609755\n",
      "               Aug           13.106968\n",
      "               Dec           10.201116\n",
      "               Feb           10.645074\n",
      "               Jan           10.003915\n",
      "               Jul           13.503946\n",
      "               Jun           13.684529\n",
      "               Mar           11.796916\n",
      "               May           13.301531\n",
      "               Nov           10.827723\n",
      "               Oct           11.675675\n",
      "               Sep           12.622501\n",
      "Name: ride_length, dtype: float64\n"
     ]
    }
   ],
   "source": [
    "# Average ride length for riders by month\n",
    "average_monthly_ride_length = df_clean.groupby([\"member_casual\", \"month_name\"])[\"ride_length\"].mean()\n",
    "print(f\"Average ride length per category per month {average_monthly_ride_length}\")\n",
    "\n",
    "# Create a DataFrame to hold the data\n",
    "monthly_average_ride_length_df = pd.DataFrame()\n",
    "monthly_average_ride_length_df[\"casual\"] = average_monthly_ride_length[\"casual\"]\n",
    "monthly_average_ride_length_df[\"member\"] = average_monthly_ride_length[\"member\"]\n",
    "monthly_average_ride_length_df[\"Month\"] = monthly_average_ride_length_df.index\n"
   ]
  },
  {
   "cell_type": "code",
   "execution_count": 183,
   "id": "121b02e4",
   "metadata": {},
   "outputs": [
    {
     "data": {
      "image/png": "[encoded data removed]",
      "text/plain": [
       "<Figure size 800x600 with 1 Axes>"
      ]
     },
     "metadata": {},
     "output_type": "display_data"
    }
   ],
   "source": [
    "# Reshape the data to a long format\n",
    "monthly_average_ride_length_melted = monthly_average_ride_length_df.melt(id_vars=[\"Month\"], var_name=\"Category\", value_name=\"Average Ride Length\")\n",
    "\n",
    "# Set the figure size\n",
    "plt.figure(figsize=(8, 6))\n",
    "\n",
    "# Plot the data using a bar plot\n",
    "sns.barplot(x=\"Month\", y=\"Average Ride Length\", hue=\"Category\", data=monthly_average_ride_length_melted, palette=\"rocket\")\n",
    "plt.title(\"Average ride length per category per month\")\n",
    "plt.xlabel(\"Month\")\n",
    "plt.ylabel(\"Average ride length\")\n",
    "\n",
    "# Save the plot with a high resolution\n",
    "plt.savefig(\"monthly_average_ride_length.png\", dpi=300)\n",
    "\n",
    "# Show the plot\n",
    "plt.show()"
   ]
  },
  {
   "cell_type": "code",
   "execution_count": null,
   "id": "eb3e93d3",
   "metadata": {},
   "outputs": [],
   "source": []
  }
 ],
 "metadata": {
  "kernelspec": {
   "display_name": "Python 3 (ipykernel)",
   "language": "python",
   "name": "python3"
  },
  "language_info": {
   "codemirror_mode": {
    "name": "ipython",
    "version": 3
   },
   "file_extension": ".py",
   "mimetype": "text/x-python",
   "name": "python",
   "nbconvert_exporter": "python",
   "pygments_lexer": "ipython3",
   "version": "3.9.13"
  }
 },
 "nbformat": 4,
 "nbformat_minor": 5
}
